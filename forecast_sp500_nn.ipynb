{
 "cells": [
  {
   "cell_type": "markdown",
   "metadata": {},
   "source": [
    "### Load packages and modules"
   ]
  },
  {
   "cell_type": "code",
   "execution_count": 84,
   "metadata": {},
   "outputs": [],
   "source": [
    "import numpy as np\n",
    "import pandas as pd\n",
    "import matplotlib.pyplot as plt\n",
    "from sklearn.preprocessing import StandardScaler\n",
    "from sklearn.decomposition import PCA\n",
    "\n",
    "import tensorflow as tf\n",
    "from tensorflow import keras\n",
    "from tensorflow.keras import layers"
   ]
  },
  {
   "cell_type": "markdown",
   "metadata": {},
   "source": [
    "### Define Neural Netowrk Function"
   ]
  },
  {
   "cell_type": "code",
   "execution_count": 96,
   "metadata": {},
   "outputs": [],
   "source": [
    "##################### Neural Network Implementation\n",
    "\n",
    "def build_model(no_of_regressors):\n",
    "    model = keras.Sequential([\n",
    "    layers.Dense(32, activation='relu', input_shape=[no_of_regressors], kernel_regularizer=keras.regularizers.l1(l=0.1)),\n",
    "    layers.Dense(16, activation='relu', kernel_regularizer=keras.regularizers.l1(l=0.1)),\n",
    "    layers.Dense(1)\n",
    "    ])\n",
    "\n",
    "    optimizer = tf.keras.optimizers.RMSprop(0.001)\n",
    "\n",
    "    model.compile(loss='mse',\n",
    "                  optimizer=optimizer,\n",
    "                  metrics=['mae', 'mse', 'accuracy'])\n",
    "    return model\n",
    "\n",
    "\n",
    "###\n",
    "def predict_nn_reg(data_df, dep_var, indep_var_list, est_sample_end, out_sample_start, EPOCHS = 1000):\n",
    "    \n",
    "    \"\"\"\n",
    "    data_df: first column is dependent variable, rest of the columns are predictors\n",
    "    dep_var: name of the dependent variable\n",
    "    indep_var_list: list of predictors\n",
    "    \n",
    "    Outout: returns a dataframe of metrics (change in RMSE, ratio of RMSE and OOS R^2) and dataframe containing actual and predicted values\n",
    "    \"\"\"\n",
    "    \n",
    "    est_sample_size = data_df[:est_sample_end].shape[0]\n",
    "    oos_size = data_df[out_sample_start:].shape[0]\n",
    "    \n",
    "    # Extract the out-of-sample index\n",
    "    oos_index = data_df[out_sample_start:].index\n",
    "    \n",
    "    # print(\"est sample size: \", est_sample_size)\n",
    "    # print(\"oos sample size: \", oos_size)\n",
    "\n",
    "    no_of_regressors = len(indep_var_list)\n",
    "    \n",
    "    \n",
    "    # Create an empty data frame to hold the true and predicted values in out-of-sample\n",
    "    true_pred = []\n",
    " \n",
    "    # tscv = TimeSeriesSplit(n_splits=5)\n",
    "\n",
    "    est_sample_start_indx = 0\n",
    "    \n",
    "    # print(np.arange(oos_size))\n",
    "    \n",
    "    # Loop for rolling window recursive estimation     \n",
    "    for i in np.arange(oos_size):\n",
    "        \n",
    "        # print(\"\\n\\nValue of i: \", i)\n",
    "        \n",
    "        est_sample_end_indx = est_sample_size + i\n",
    "\n",
    "        # Extract the predictor columns\n",
    "        predictor_df = data_df.iloc[est_sample_start_indx:est_sample_end_indx][indep_var_list]\n",
    "        # print(\"Predictors index: \\n\", predictor_df.index)\n",
    "        # print(\"Predictors tail: \\n\", predictor_df.tail())\n",
    "        \n",
    "        \n",
    "        X = predictor_df\n",
    "        # print(X.shape)\n",
    "        \n",
    "        # This returns a pandas series\n",
    "        y = data_df.iloc[est_sample_start_indx:est_sample_end_indx][['y']]\n",
    "        y = pd.DataFrame(y)\n",
    "        # print(y.shape)\n",
    "        # print(\"Dependent variable index: \\n\", y.index)\n",
    "        # print(\"Dependent variable tail: \\n\", y.tail())\n",
    "        \n",
    "\n",
    "        # Test data point is used for prediction          \n",
    "        test_data_idx = est_sample_end_indx + 1\n",
    "\n",
    "        # Extract the actual test data point - it is the next row just where the in-sample data ends\n",
    "        X_test = data_df.iloc[est_sample_end_indx:test_data_idx][indep_var_list]\n",
    "        y_test = data_df.iloc[est_sample_end_indx:test_data_idx][['y']]\n",
    "        y_test = np.asscalar(y_test.values)\n",
    "\n",
    "        # print(\"####################\")\n",
    "        # print(\"X_test: \\n\", X_test)\n",
    "        # print(\"y_test: \\n\", y_test)\n",
    "\n",
    "        est_sample_start_indx = est_sample_start_indx + 1\n",
    "        \n",
    "        \n",
    "        #########################################################################################\n",
    "        ##################### Train with early stopping - to prevent overfitting ################\n",
    "        # if EARLY_STOPPING == True:\n",
    "        # print(\"\\nTrain with early stopping - to prevent overfitting\")\n",
    "        model = build_model(no_of_regressors)\n",
    "        # model.summary()\n",
    "\n",
    "        # The patience parameter is the amount of epochs to check for improvement\n",
    "        early_stop = keras.callbacks.EarlyStopping(monitor='val_loss', patience=100)\n",
    "\n",
    "        early_history = model.fit(X, y, epochs = EPOCHS, validation_split = 0.25, verbose=0, callbacks=[early_stop])\n",
    "\n",
    "        early_hist = pd.DataFrame(early_history.history)\n",
    "        early_hist['epoch'] = early_history.epoch    \n",
    "\n",
    "        # train_mse = early_hist.iloc[-1]['loss']\n",
    "        # train_acc = early_hist.iloc[-1]['acc']\n",
    "        # train_rmse = train_mse**(1/2)\n",
    "\n",
    "        # Predict the dependent var based on test data point\n",
    "        y_pred = model.predict(X_test)\n",
    "        y_pred = np.asscalar(y_pred)\n",
    "            \n",
    "        # Put everything together - actual, predicted\n",
    "        true_pred.append([y_test, y_pred])\n",
    "        \n",
    "        \n",
    "    # Create a dataframe with actual, predicted, historical average, random walk prediction\n",
    "    true_pred_df = pd.DataFrame(true_pred, columns = ['actual', 'predicted'], index = oos_index)\n",
    "        \n",
    "    return(true_pred_df)\n"
   ]
  },
  {
   "cell_type": "markdown",
   "metadata": {},
   "source": [
    "#### Read S&P500 Data"
   ]
  },
  {
   "cell_type": "code",
   "execution_count": 86,
   "metadata": {
    "scrolled": true
   },
   "outputs": [
    {
     "name": "stdout",
     "output_type": "stream",
     "text": [
      "        date  close Name\n",
      "0 2013-02-08  14.75  AAL\n",
      "1 2013-02-11  14.46  AAL\n",
      "2 2013-02-12  14.27  AAL\n",
      "3 2013-02-13  14.66  AAL\n",
      "4 2013-02-14  13.99  AAL\n"
     ]
    }
   ],
   "source": [
    "# Read SP500 data\n",
    "sp500 = pd.read_csv(\"C:\\\\GoogleDrivePushpakUW\\\\UW\\\\TDI\\\\all_stocks_5yr\\\\all_stocks_5yr.csv\")\n",
    "sp500 = sp500[['date', 'close', 'Name']]\n",
    "sp500['date'] = pd.to_datetime(sp500['date'])\n",
    "\n",
    "print(sp500.head())"
   ]
  },
  {
   "cell_type": "code",
   "execution_count": 87,
   "metadata": {},
   "outputs": [
    {
     "name": "stdout",
     "output_type": "stream",
     "text": [
      "Name            A    AAL    AAP     AAPL   ABBV    ABC    ABT    ACN   ADBE  \\\n",
      "date                                                                          \n",
      "2013-02-08  45.08  14.75  78.90  67.8542  36.25  46.89  34.41  73.31  39.12   \n",
      "2013-02-11  44.60  14.46  78.39  68.5614  35.85  46.76  34.26  73.07  38.64   \n",
      "2013-02-12  44.62  14.27  78.60  66.8428  35.42  46.96  34.30  73.37  38.89   \n",
      "2013-02-13  44.75  14.66  78.97  66.7156  35.27  46.64  34.46  73.56  38.81   \n",
      "2013-02-14  44.58  13.99  78.84  66.6556  36.57  46.77  34.70  73.13  38.61   \n",
      "\n",
      "Name          ADI  ...       XL   XLNX    XOM   XRAY    XRX    XYL    YUM  \\\n",
      "date               ...                                                      \n",
      "2013-02-08  45.70  ...    28.24  37.51  88.61  42.87  31.84  27.09  65.30   \n",
      "2013-02-11  46.08  ...    28.31  37.46  88.28  42.84  31.96  27.46  64.55   \n",
      "2013-02-12  46.27  ...    28.41  37.58  88.46  42.87  31.84  27.95  64.75   \n",
      "2013-02-13  46.26  ...    28.42  37.80  88.67  43.08  32.00  28.26  64.41   \n",
      "2013-02-14  46.54  ...    28.22  38.44  88.52  42.91  32.12  28.47  63.89   \n",
      "\n",
      "Name          ZBH   ZION    ZTS  \n",
      "date                             \n",
      "2013-02-08  75.85  24.14  33.05  \n",
      "2013-02-11  75.65  24.21  33.26  \n",
      "2013-02-12  75.44  24.49  33.74  \n",
      "2013-02-13  76.00  24.74  33.55  \n",
      "2013-02-14  76.34  24.63  33.27  \n",
      "\n",
      "[5 rows x 505 columns]\n",
      "(1259, 505)\n"
     ]
    }
   ],
   "source": [
    "sp500_long = sp500.pivot(index = 'date', columns='Name', values='close')\n",
    "print(sp500_long.head())\n",
    "print(sp500_long.shape)"
   ]
  },
  {
   "cell_type": "code",
   "execution_count": 88,
   "metadata": {},
   "outputs": [
    {
     "name": "stdout",
     "output_type": "stream",
     "text": [
      "Name               A       AAL       AAP      AAPL      ABBV       ABC  \\\n",
      "date                                                                     \n",
      "2013-02-08       NaN       NaN       NaN       NaN       NaN       NaN   \n",
      "2013-02-11 -0.010705 -0.019857 -0.006485  0.010368 -0.011096 -0.002776   \n",
      "2013-02-12  0.000448 -0.013227  0.002675 -0.025386 -0.012067  0.004268   \n",
      "2013-02-13  0.002909  0.026963  0.004696 -0.001905 -0.004244 -0.006838   \n",
      "2013-02-14 -0.003806 -0.046780 -0.001648 -0.000900  0.036195  0.002783   \n",
      "\n",
      "Name             ABT       ACN      ADBE       ADI    ...           XL  \\\n",
      "date                                                  ...                \n",
      "2013-02-08       NaN       NaN       NaN       NaN    ...          NaN   \n",
      "2013-02-11 -0.004369 -0.003279 -0.012346  0.008281    ...     0.002476   \n",
      "2013-02-12  0.001167  0.004097  0.006449  0.004115    ...     0.003526   \n",
      "2013-02-13  0.004654  0.002586 -0.002059 -0.000216    ...     0.000352   \n",
      "2013-02-14  0.006940 -0.005863 -0.005167  0.006035    ...    -0.007062   \n",
      "\n",
      "Name            XLNX       XOM      XRAY       XRX       XYL       YUM  \\\n",
      "date                                                                     \n",
      "2013-02-08       NaN       NaN       NaN       NaN       NaN       NaN   \n",
      "2013-02-11 -0.001334 -0.003731 -0.000700  0.003762  0.013566 -0.011552   \n",
      "2013-02-12  0.003198  0.002037  0.000700 -0.003762  0.017687  0.003094   \n",
      "2013-02-13  0.005837  0.002371  0.004887  0.005013  0.011030 -0.005265   \n",
      "2013-02-14  0.016789 -0.001693 -0.003954  0.003743  0.007404 -0.008106   \n",
      "\n",
      "Name             ZBH      ZION       ZTS  \n",
      "date                                      \n",
      "2013-02-08       NaN       NaN       NaN  \n",
      "2013-02-11 -0.002640  0.002896  0.006334  \n",
      "2013-02-12 -0.002780  0.011499  0.014329  \n",
      "2013-02-13  0.007396  0.010156 -0.005647  \n",
      "2013-02-14  0.004464 -0.004456 -0.008381  \n",
      "\n",
      "[5 rows x 505 columns]\n",
      "############\n",
      "Name               A       AAL       AAP      AAPL      ABBV       ABC  \\\n",
      "date                                                                     \n",
      "2013-02-11 -0.010705 -0.019857 -0.006485  0.010368 -0.011096 -0.002776   \n",
      "2013-02-12  0.000448 -0.013227  0.002675 -0.025386 -0.012067  0.004268   \n",
      "2013-02-13  0.002909  0.026963  0.004696 -0.001905 -0.004244 -0.006838   \n",
      "2013-02-14 -0.003806 -0.046780 -0.001648 -0.000900  0.036195  0.002783   \n",
      "2013-02-15 -0.053681  0.035806  0.002027 -0.013876  0.027244 -0.003641   \n",
      "\n",
      "Name             ABT       ACN      ADBE       ADI    ...           XL  \\\n",
      "date                                                  ...                \n",
      "2013-02-11 -0.004369 -0.003279 -0.012346  0.008281    ...     0.002476   \n",
      "2013-02-12  0.001167  0.004097  0.006449  0.004115    ...     0.003526   \n",
      "2013-02-13  0.004654  0.002586 -0.002059 -0.000216    ...     0.000352   \n",
      "2013-02-14  0.006940 -0.005863 -0.005167  0.006035    ...    -0.007062   \n",
      "2013-02-15  0.010891  0.013986  0.000647 -0.007874    ...     0.015820   \n",
      "\n",
      "Name            XLNX       XOM      XRAY       XRX       XYL       YUM  \\\n",
      "date                                                                     \n",
      "2013-02-11 -0.001334 -0.003731 -0.000700  0.003762  0.013566 -0.011552   \n",
      "2013-02-12  0.003198  0.002037  0.000700 -0.003762  0.017687  0.003094   \n",
      "2013-02-13  0.005837  0.002371  0.004887  0.005013  0.011030 -0.005265   \n",
      "2013-02-14  0.016789 -0.001693 -0.003954  0.003743  0.007404 -0.008106   \n",
      "2013-02-15 -0.008360 -0.001809 -0.002567 -0.007500 -0.006696  0.001564   \n",
      "\n",
      "Name             ZBH      ZION       ZTS  \n",
      "date                                      \n",
      "2013-02-11 -0.002640  0.002896  0.006334  \n",
      "2013-02-12 -0.002780  0.011499  0.014329  \n",
      "2013-02-13  0.007396  0.010156 -0.005647  \n",
      "2013-02-14  0.004464 -0.004456 -0.008381  \n",
      "2013-02-15 -0.005780 -0.011844  0.021116  \n",
      "\n",
      "[5 rows x 505 columns]\n"
     ]
    }
   ],
   "source": [
    "# Calculate log return\n",
    "log_returns = np.log(sp500_long) - np.log(sp500_long.shift(1))\n",
    "returns = log_returns.interpolate(axis = 1)\n",
    "\n",
    "print(returns.head())\n",
    "print('############')\n",
    "returns = returns.dropna()\n",
    "print(returns.head())"
   ]
  },
  {
   "cell_type": "markdown",
   "metadata": {},
   "source": [
    "#### Extract 5 PCs from Returns Data"
   ]
  },
  {
   "cell_type": "code",
   "execution_count": 89,
   "metadata": {},
   "outputs": [
    {
     "name": "stdout",
     "output_type": "stream",
     "text": [
      "Shape of PC data:  (1258, 5)\n",
      "How many pcs:  5\n"
     ]
    },
    {
     "data": {
      "image/png": "[encoded data removed]",
      "text/plain": [
       "<Figure size 432x288 with 1 Axes>"
      ]
     },
     "metadata": {
      "needs_background": "light"
     },
     "output_type": "display_data"
    },
    {
     "name": "stdout",
     "output_type": "stream",
     "text": [
      "                 PC1       PC2       PC3       PC4       PC5\n",
      "date                                                        \n",
      "2013-02-11  2.012173 -0.556482  0.221911  2.178644  0.771916\n",
      "2013-02-12 -3.819273 -0.435943 -1.653007  2.323843 -0.831509\n",
      "2013-02-13 -1.651256  1.888082 -2.085322 -1.126927  0.800286\n",
      "2013-02-14  0.001589  3.311530  0.875841 -1.271180  1.595575\n",
      "2013-02-15  0.130070 -3.810923  3.097395  0.728566  0.333492\n",
      "                  PC1        PC2       PC3       PC4       PC5\n",
      "date                                                          \n",
      "2018-02-01   3.993658  13.490096  0.470958  2.622057  4.197902\n",
      "2018-02-02  31.380047   0.092578  2.252972  1.355995  0.712266\n",
      "2018-02-05  60.317567   3.722265 -3.743164 -2.818051 -2.349867\n",
      "2018-02-06 -17.723378   8.086578  3.625767 -3.619181 -3.974333\n",
      "2018-02-07   4.114783   2.194425  5.468112  6.168652 -1.701143\n"
     ]
    }
   ],
   "source": [
    "scaler = StandardScaler()\n",
    "sp500_std = scaler.fit_transform(returns)\n",
    "\n",
    "# Extract 3 PCs from data\n",
    "pca = PCA(n_components=5)\n",
    "\n",
    "pc = pca.fit_transform(sp500_std)\n",
    "print(\"Shape of PC data: \", pc.shape)\n",
    "\n",
    "num_pc = len(pca.components_)\n",
    "print(\"How many pcs: \", len(pca.components_))\n",
    "\n",
    "var = pca.explained_variance_ratio_\n",
    "plt.plot(var)\n",
    "plt.xlabel('Principal component index')\n",
    "plt.ylabel('Explained variance ratio')\n",
    "plt.show()\n",
    "\n",
    "\n",
    "pc_coef_names = [\"PC\" + str(i+1) for i in range(num_pc)]\n",
    "\n",
    "pc_df = pd.DataFrame(pc, columns=pc_coef_names, index=returns.index)\n",
    "print(pc_df.head())\n",
    "print(pc_df.tail())"
   ]
  },
  {
   "cell_type": "code",
   "execution_count": 90,
   "metadata": {},
   "outputs": [
    {
     "name": "stdout",
     "output_type": "stream",
     "text": [
      "A\n"
     ]
    }
   ],
   "source": [
    "stock_names = returns.columns.tolist()\n",
    "stock_names = stock_names[0]\n",
    "print(stock_names)"
   ]
  },
  {
   "cell_type": "markdown",
   "metadata": {},
   "source": [
    "#### Train Neural Network and Produce Out-of-Sample Forecast"
   ]
  },
  {
   "cell_type": "code",
   "execution_count": 97,
   "metadata": {},
   "outputs": [
    {
     "name": "stdout",
     "output_type": "stream",
     "text": [
      "              actual  predicted\n",
      "date                           \n",
      "2018-01-02  0.009363  -0.000721\n",
      "2018-01-03  0.025125  -0.002763\n",
      "2018-01-04 -0.007530  -0.009792\n",
      "2018-01-05  0.015862  -0.009474\n",
      "2018-01-08  0.002144   0.001225\n",
      "2018-01-09  0.024257  -0.002025\n",
      "2018-01-10 -0.013749   0.000009\n",
      "2018-01-11  0.000141  -0.000518\n",
      "2018-01-12  0.013050   0.001208\n",
      "2018-01-16 -0.006995  -0.000202\n",
      "2018-01-17  0.011585  -0.000169\n",
      "2018-01-18  0.001802   0.001483\n",
      "2018-01-19  0.012116   0.002242\n",
      "2018-01-22  0.005595   0.002381\n",
      "2018-01-23 -0.000545   0.001330\n",
      "2018-01-24  0.001905   0.001592\n",
      "2018-01-25  0.003798   0.001852\n",
      "2018-01-26  0.012914  -0.002216\n",
      "2018-01-29 -0.003884  -0.002867\n",
      "2018-01-30 -0.020879  -0.000078\n",
      "2018-01-31  0.006010   0.000735\n",
      "2018-02-01 -0.008205  -0.001242\n",
      "2018-02-02 -0.021933  -0.000547\n",
      "2018-02-05 -0.043457  -0.001529\n",
      "2018-02-06  0.003366   0.002286\n",
      "2018-02-07 -0.005714   0.001536\n",
      "########\n"
     ]
    }
   ],
   "source": [
    "fcast_horizon = 1\n",
    "\n",
    "est_sample_end_date = '2017-12-31'\n",
    "out_sample_start_date = '2018-01-01'\n",
    "\n",
    "# Extract the out-of-sample index\n",
    "oos_index = returns[out_sample_start_date:].index\n",
    "\n",
    "forecast_nn = pd.DataFrame(index = oos_index)\n",
    "    \n",
    "\n",
    "for itr in stock_names:\n",
    "    # print(\"Dependent variable: \", itr)    \n",
    "    # print(returns[[itr]])\n",
    "    \n",
    "    ret_df = returns[[itr]]\n",
    "    ret_df.columns = ['y']\n",
    "    # print(ret_df.head())\n",
    "    \n",
    "    data_df = ret_df.join(pc_df, how = 'inner')\n",
    "    # print(data_df.head())\n",
    "    \n",
    "    predictor_df = data_df[pc_df.columns]\n",
    "    predictor_lag = predictor_df.shift(periods = fcast_horizon)\n",
    "    # print(predictor_lag.head())\n",
    "\n",
    "    reg_df = ret_df.join(predictor_lag, how = 'inner')\n",
    "    # print(reg_df.head())\n",
    "    \n",
    "    reg_df = reg_df.dropna()\n",
    "    # print(reg_df.head())\n",
    "    \n",
    "    indep_var_list = predictor_df.columns.tolist()\n",
    "    # print(indep_var_list)\n",
    "    \n",
    "    dep_var = itr\n",
    "        \n",
    "    forecast = predict_nn_reg(data_df = reg_df, dep_var = itr, indep_var_list = indep_var_list, \n",
    "                                    est_sample_end = est_sample_end_date, out_sample_start = out_sample_start_date, \n",
    "                                    EPOCHS=100)\n",
    "    print(forecast)\n",
    "    print('########')\n",
    "    # forecast_nn = forecast_nn.join(forecast, how = 'inner')\n",
    "    # print(forecast_nn)\n"
   ]
  },
  {
   "cell_type": "code",
   "execution_count": 98,
   "metadata": {},
   "outputs": [
    {
     "data": {
      "image/png": "[encoded data removed]",
      "text/plain": [
       "<Figure size 864x432 with 1 Axes>"
      ]
     },
     "metadata": {
      "needs_background": "light"
     },
     "output_type": "display_data"
    }
   ],
   "source": [
    "# Plot the actual, predicted and random walk values for the OOS\n",
    "forecast[['actual', 'predicted']].plot(figsize=(12, 6), title=\"Return: actual, predicted\")\n",
    "plt.tight_layout(); plt.show()\n"
   ]
  }
 ],
 "metadata": {
  "kernelspec": {
   "display_name": "Python 3",
   "language": "python",
   "name": "python3"
  },
  "language_info": {
   "codemirror_mode": {
    "name": "ipython",
    "version": 3
   },
   "file_extension": ".py",
   "mimetype": "text/x-python",
   "name": "python",
   "nbconvert_exporter": "python",
   "pygments_lexer": "ipython3",
   "version": "3.7.1"
  }
 },
 "nbformat": 4,
 "nbformat_minor": 2
}
